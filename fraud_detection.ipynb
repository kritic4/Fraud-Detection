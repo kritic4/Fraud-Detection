{
 "cells": [
  {
   "cell_type": "code",
   "execution_count": 9,
   "id": "02e50184-e3c3-486d-9ee6-9bb510a29ab8",
   "metadata": {},
   "outputs": [],
   "source": [
    "import streamlit as st\n",
    "import pandas as pd\n",
    "import joblib\n",
    "\n",
    "model = joblib. load(\"fraud_detection_pipeline.pkl\")\n",
    "\n",
    "st.title(\"Fraud Detection Prediction App\")\n",
    "\n",
    "st.markdown(\"Please enter the transaction details and use the predict button\")\n",
    "\n",
    "st.divider()\n",
    "transaction_type=st.selectbox(\"Transaction Type\",[\"PAYMENT\",\"TRANSFER\",\"CASH_OUT\",\"DEPOSIT\"])\n",
    "amount= st.number_input(\"Amount\",min_value=0.0,value=1000.0)\n",
    "oldbalanceOrg=st.number_input(\"Old Balance(sender)\",min_value=0.0,value=10000.0)\n",
    "newbalanceOrig=st.number_input(\"New Balance (Sender)\", min_value=0.0, value=9000.0)\n",
    "oldbalanceDest=st.number_input(\"Old Balance(Receiver)\",min_value=0.0,value=0.0)\n",
    "newbalanceDest=st.number_input(\"New Balance (Receiver)\",min_value=0.0,value=0.0)\n",
    " \n",
    "if st.button(\"Predict\"):\n",
    "    \n",
    "    input_data = pd.DataFrame([{\n",
    "    \"type\" : transaction_type,\n",
    "    \"amount\" : amount,\n",
    "    \"oldbalanceOrg\": oldbalanceOrg,\n",
    "    \"newbalanceOrig\": newbalanceOrig,\n",
    "    \"oldbalanceDest\": oldbalanceDest,\n",
    "    \"newbalanceDest\": newbalanceDest\n",
    "    }])\n",
    "    prediction=model.predict(input_data)[0]\n",
    "    st.subheader(f\"Prediction : '{int(prediction)}'\") \n",
    "    if prediction == 1:\n",
    "        st.error(\"This transaction can be fraud\")\n",
    "    else:\n",
    "        st.success(\"This transaction looks like it is not a fraud\")\n",
    "    "
   ]
  }
 ],
 "metadata": {
  "kernelspec": {
   "display_name": "Python 3 (ipykernel)",
   "language": "python",
   "name": "python3"
  },
  "language_info": {
   "codemirror_mode": {
    "name": "ipython",
    "version": 3
   },
   "file_extension": ".py",
   "mimetype": "text/x-python",
   "name": "python",
   "nbconvert_exporter": "python",
   "pygments_lexer": "ipython3",
   "version": "3.12.4"
  }
 },
 "nbformat": 4,
 "nbformat_minor": 5
}
